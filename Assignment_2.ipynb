{
  "nbformat": 4,
  "nbformat_minor": 0,
  "metadata": {
    "colab": {
      "name": "Assignment 2.ipynb",
      "provenance": [],
      "collapsed_sections": [],
      "authorship_tag": "ABX9TyNVtpvP4YNtlrOlr36q8pix",
      "include_colab_link": true
    },
    "kernelspec": {
      "name": "python3",
      "display_name": "Python 3"
    }
  },
  "cells": [
    {
      "cell_type": "markdown",
      "metadata": {
        "id": "view-in-github",
        "colab_type": "text"
      },
      "source": [
        "<a href=\"https://colab.research.google.com/github/pramilabalan/ineuron/blob/master/Assignment_2.ipynb\" target=\"_parent\"><img src=\"https://colab.research.google.com/assets/colab-badge.svg\" alt=\"Open In Colab\"/></a>"
      ]
    },
    {
      "cell_type": "markdown",
      "metadata": {
        "id": "0JT_I_ZuXnJR"
      },
      "source": [
        "1. Write a program which accepts a sequence of comma-separated numbers from console  and generate a list. "
      ]
    },
    {
      "cell_type": "code",
      "metadata": {
        "id": "lehgglMRXrGj",
        "outputId": "da7cf747-32dd-498e-d1ae-ef0fc787680e",
        "colab": {
          "base_uri": "https://localhost:8080/",
          "height": 52
        }
      },
      "source": [
        "my_input=input('Enter comma sep text')\n",
        "my_input"
      ],
      "execution_count": 38,
      "outputs": [
        {
          "output_type": "stream",
          "text": [
            "Enter comma sep textefsrf, 343rtgt, 34545,fergtg,34\n"
          ],
          "name": "stdout"
        },
        {
          "output_type": "execute_result",
          "data": {
            "application/vnd.google.colaboratory.intrinsic+json": {
              "type": "string"
            },
            "text/plain": [
              "'efsrf, 343rtgt, 34545,fergtg,34'"
            ]
          },
          "metadata": {
            "tags": []
          },
          "execution_count": 38
        }
      ]
    },
    {
      "cell_type": "code",
      "metadata": {
        "id": "A01myVwBanZk",
        "outputId": "128926e4-661a-45a6-a5be-3052e227bca3",
        "colab": {
          "base_uri": "https://localhost:8080/",
          "height": 34
        }
      },
      "source": [
        "final_list=my_input.split(',')\n",
        "final_list"
      ],
      "execution_count": 39,
      "outputs": [
        {
          "output_type": "execute_result",
          "data": {
            "text/plain": [
              "['efsrf', ' 343rtgt', ' 34545', 'fergtg', '34']"
            ]
          },
          "metadata": {
            "tags": []
          },
          "execution_count": 39
        }
      ]
    },
    {
      "cell_type": "code",
      "metadata": {
        "id": "_9SeO8PeanFx",
        "outputId": "c573d29e-b275-471d-cfc0-e89314ee6dc6",
        "colab": {
          "base_uri": "https://localhost:8080/",
          "height": 34
        }
      },
      "source": [
        "type(final_list)"
      ],
      "execution_count": 36,
      "outputs": [
        {
          "output_type": "execute_result",
          "data": {
            "text/plain": [
              "list"
            ]
          },
          "metadata": {
            "tags": []
          },
          "execution_count": 36
        }
      ]
    },
    {
      "cell_type": "markdown",
      "metadata": {
        "id": "h5dhyzyiT08l"
      },
      "source": [
        "2. Create the below pattern using nested for loop in Python. \n",
        "\n",
        "\n",
        "\n",
        "\n",
        "            * \n",
        "            * * \n",
        "            * * * \n",
        "            * * * * \n",
        "            * * * * * \n",
        "            * * * * \n",
        "            * * * \n",
        "            * * \n",
        "            * \n"
      ]
    },
    {
      "cell_type": "code",
      "metadata": {
        "id": "sMinor1LXwpy",
        "outputId": "72918a12-1e05-438b-f92a-35ebad52a238",
        "colab": {
          "base_uri": "https://localhost:8080/",
          "height": 168
        }
      },
      "source": [
        "for i in range(1,7):\n",
        "  if i<=5:\n",
        "    print(\"*\"*i)\n",
        "  else:\n",
        "   for k in reversed(range(0,4)):\n",
        "     print(\"*\"*k)"
      ],
      "execution_count": 12,
      "outputs": [
        {
          "output_type": "stream",
          "text": [
            "*\n",
            "**\n",
            "***\n",
            "****\n",
            "*****\n",
            "***\n",
            "**\n",
            "*\n",
            "\n"
          ],
          "name": "stdout"
        }
      ]
    },
    {
      "cell_type": "code",
      "metadata": {
        "id": "VCczAlaTbVs0"
      },
      "source": [
        ""
      ],
      "execution_count": null,
      "outputs": []
    },
    {
      "cell_type": "markdown",
      "metadata": {
        "id": "UiAvye4bbV53"
      },
      "source": [
        "2. Write a Python program to reverse a word after accepting the input from the user. \n",
        "\n",
        "Sample Output: \n",
        "\n",
        "Input word: ineuron \n",
        "\n",
        "Output: norueni\n"
      ]
    },
    {
      "cell_type": "code",
      "metadata": {
        "id": "pS5GbmwZbZ9y",
        "outputId": "c5672a88-efe9-4d83-bc96-8b7032a49a26",
        "colab": {
          "base_uri": "https://localhost:8080/",
          "height": 34
        }
      },
      "source": [
        "inp=input(\"Enter Word: \")"
      ],
      "execution_count": 48,
      "outputs": [
        {
          "output_type": "stream",
          "text": [
            "Enter Word: ineuron\n"
          ],
          "name": "stdout"
        }
      ]
    },
    {
      "cell_type": "code",
      "metadata": {
        "id": "MDrCzNcBboOx",
        "outputId": "b134db23-629a-4164-a531-26a97eb749fb",
        "colab": {
          "base_uri": "https://localhost:8080/",
          "height": 35
        }
      },
      "source": [
        "inp"
      ],
      "execution_count": 49,
      "outputs": [
        {
          "output_type": "execute_result",
          "data": {
            "application/vnd.google.colaboratory.intrinsic+json": {
              "type": "string"
            },
            "text/plain": [
              "'ineuron'"
            ]
          },
          "metadata": {
            "tags": []
          },
          "execution_count": 49
        }
      ]
    },
    {
      "cell_type": "code",
      "metadata": {
        "id": "OEgqPiw3bpk1",
        "outputId": "59c1b9e6-450a-4c75-97f8-f3ea4d81c931",
        "colab": {
          "base_uri": "https://localhost:8080/",
          "height": 35
        }
      },
      "source": [
        "out=inp[::-1]\n",
        "out\n"
      ],
      "execution_count": 50,
      "outputs": [
        {
          "output_type": "execute_result",
          "data": {
            "application/vnd.google.colaboratory.intrinsic+json": {
              "type": "string"
            },
            "text/plain": [
              "'norueni'"
            ]
          },
          "metadata": {
            "tags": []
          },
          "execution_count": 50
        }
      ]
    },
    {
      "cell_type": "code",
      "metadata": {
        "id": "fk67NAu-buvc"
      },
      "source": [
        ""
      ],
      "execution_count": null,
      "outputs": []
    }
  ]
}